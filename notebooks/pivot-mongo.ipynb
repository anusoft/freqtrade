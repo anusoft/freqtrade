{
 "cells": [
  {
   "cell_type": "code",
   "execution_count": 35,
   "metadata": {},
   "outputs": [
    {
     "name": "stdout",
     "output_type": "stream",
     "text": [
      "Index(['Best', 'Epoch', 'Trades', 'Avg profit', 'Median profit',\n",
      "       'Total profit', 'Stake currency', 'Profit', 'Avg duration', 'Objective',\n",
      "       'Monthly Profit', 'pickle', 'base', 'pairs', 'config', 'timeframe',\n",
      "       'epoch', 'spaces', 'strategy', 'hyperopt', 'hyperopt_loss', 'timerange',\n",
      "       'host', 'days', 'comment'],\n",
      "      dtype='object')\n"
     ]
    },
    {
     "data": {
      "text/html": "<div>\n<style scoped>\n    .dataframe tbody tr th:only-of-type {\n        vertical-align: middle;\n    }\n\n    .dataframe tbody tr th {\n        vertical-align: top;\n    }\n\n    .dataframe thead th {\n        text-align: right;\n    }\n</style>\n<table border=\"1\" class=\"dataframe\">\n  <thead>\n    <tr style=\"text-align: right;\">\n      <th></th>\n      <th>strategy</th>\n      <th>pairs</th>\n      <th>timeframe</th>\n      <th>Total profit</th>\n      <th>Trades</th>\n      <th>days</th>\n      <th>comment</th>\n    </tr>\n  </thead>\n  <tbody>\n    <tr>\n      <th>83</th>\n      <td>AverageStrategy</td>\n      <td>BNB/USDT</td>\n      <td>5m</td>\n      <td>94.321900</td>\n      <td>50</td>\n      <td>30</td>\n      <td>btc-bnb</td>\n    </tr>\n    <tr>\n      <th>82</th>\n      <td>AverageStrategy</td>\n      <td>BNB/USDT</td>\n      <td>5m</td>\n      <td>92.264377</td>\n      <td>50</td>\n      <td>30</td>\n      <td>btc-bnb</td>\n    </tr>\n    <tr>\n      <th>77</th>\n      <td>AverageStrategy</td>\n      <td>BNB/USDT</td>\n      <td>15m</td>\n      <td>90.361507</td>\n      <td>37</td>\n      <td>30</td>\n      <td>btc-bnb</td>\n    </tr>\n    <tr>\n      <th>182</th>\n      <td>ReinforcedSmoothScalp</td>\n      <td>BNB/USDT</td>\n      <td>5m</td>\n      <td>88.171610</td>\n      <td>65</td>\n      <td>30</td>\n      <td>btc-bnb</td>\n    </tr>\n    <tr>\n      <th>187</th>\n      <td>ReinforcedSmoothScalp</td>\n      <td>BNB/USDT</td>\n      <td>3m</td>\n      <td>86.377383</td>\n      <td>55</td>\n      <td>30</td>\n      <td>btc-bnb</td>\n    </tr>\n    <tr>\n      <th>81</th>\n      <td>AverageStrategy</td>\n      <td>BNB/USDT</td>\n      <td>5m</td>\n      <td>86.179151</td>\n      <td>50</td>\n      <td>30</td>\n      <td>btc-bnb</td>\n    </tr>\n    <tr>\n      <th>181</th>\n      <td>ReinforcedSmoothScalp</td>\n      <td>BNB/USDT</td>\n      <td>5m</td>\n      <td>86.151304</td>\n      <td>63</td>\n      <td>30</td>\n      <td>btc-bnb</td>\n    </tr>\n    <tr>\n      <th>74</th>\n      <td>AdxSmas</td>\n      <td>BNB/USDT</td>\n      <td>3m</td>\n      <td>85.043474</td>\n      <td>13</td>\n      <td>30</td>\n      <td>btc-bnb</td>\n    </tr>\n    <tr>\n      <th>73</th>\n      <td>AdxSmas</td>\n      <td>BNB/USDT</td>\n      <td>5m</td>\n      <td>84.944801</td>\n      <td>13</td>\n      <td>30</td>\n      <td>btc-bnb</td>\n    </tr>\n    <tr>\n      <th>180</th>\n      <td>ReinforcedSmoothScalp</td>\n      <td>BNB/USDT</td>\n      <td>5m</td>\n      <td>82.464460</td>\n      <td>53</td>\n      <td>30</td>\n      <td>btc-bnb</td>\n    </tr>\n    <tr>\n      <th>37</th>\n      <td>Strategy005</td>\n      <td>BTC/USDT</td>\n      <td>3m</td>\n      <td>13.338069</td>\n      <td>17</td>\n      <td>30</td>\n      <td>btc-bnb</td>\n    </tr>\n    <tr>\n      <th>32</th>\n      <td>Strategy005</td>\n      <td>BTC/USDT</td>\n      <td>5m</td>\n      <td>12.568743</td>\n      <td>22</td>\n      <td>30</td>\n      <td>btc-bnb</td>\n    </tr>\n    <tr>\n      <th>31</th>\n      <td>Strategy005</td>\n      <td>BTC/USDT</td>\n      <td>15m</td>\n      <td>12.230514</td>\n      <td>16</td>\n      <td>30</td>\n      <td>btc-bnb</td>\n    </tr>\n    <tr>\n      <th>40</th>\n      <td>Strategy005</td>\n      <td>BTC/USDT</td>\n      <td>1m</td>\n      <td>11.530917</td>\n      <td>15</td>\n      <td>30</td>\n      <td>btc-bnb</td>\n    </tr>\n    <tr>\n      <th>36</th>\n      <td>Strategy005</td>\n      <td>BTC/USDT</td>\n      <td>3m</td>\n      <td>11.349195</td>\n      <td>16</td>\n      <td>30</td>\n      <td>btc-bnb</td>\n    </tr>\n    <tr>\n      <th>30</th>\n      <td>Strategy005</td>\n      <td>BTC/USDT</td>\n      <td>15m</td>\n      <td>10.985311</td>\n      <td>15</td>\n      <td>30</td>\n      <td>btc-bnb</td>\n    </tr>\n    <tr>\n      <th>10</th>\n      <td>AverageStrategy</td>\n      <td>BTC/USDT</td>\n      <td>15m</td>\n      <td>10.722806</td>\n      <td>47</td>\n      <td>30</td>\n      <td>btc-bnb</td>\n    </tr>\n    <tr>\n      <th>35</th>\n      <td>Strategy005</td>\n      <td>BTC/USDT</td>\n      <td>3m</td>\n      <td>10.349188</td>\n      <td>15</td>\n      <td>30</td>\n      <td>btc-bnb</td>\n    </tr>\n    <tr>\n      <th>29</th>\n      <td>Strategy005</td>\n      <td>BTC/USDT</td>\n      <td>15m</td>\n      <td>10.230510</td>\n      <td>15</td>\n      <td>30</td>\n      <td>btc-bnb</td>\n    </tr>\n    <tr>\n      <th>23</th>\n      <td>SwingHighToSky</td>\n      <td>BTC/USDT</td>\n      <td>3m</td>\n      <td>10.214038</td>\n      <td>21</td>\n      <td>30</td>\n      <td>btc-bnb</td>\n    </tr>\n  </tbody>\n</table>\n</div>",
      "text/plain": "                  strategy     pairs timeframe  Total profit  Trades days  \\\n83         AverageStrategy  BNB/USDT        5m     94.321900      50   30   \n82         AverageStrategy  BNB/USDT        5m     92.264377      50   30   \n77         AverageStrategy  BNB/USDT       15m     90.361507      37   30   \n182  ReinforcedSmoothScalp  BNB/USDT        5m     88.171610      65   30   \n187  ReinforcedSmoothScalp  BNB/USDT        3m     86.377383      55   30   \n81         AverageStrategy  BNB/USDT        5m     86.179151      50   30   \n181  ReinforcedSmoothScalp  BNB/USDT        5m     86.151304      63   30   \n74                 AdxSmas  BNB/USDT        3m     85.043474      13   30   \n73                 AdxSmas  BNB/USDT        5m     84.944801      13   30   \n180  ReinforcedSmoothScalp  BNB/USDT        5m     82.464460      53   30   \n37             Strategy005  BTC/USDT        3m     13.338069      17   30   \n32             Strategy005  BTC/USDT        5m     12.568743      22   30   \n31             Strategy005  BTC/USDT       15m     12.230514      16   30   \n40             Strategy005  BTC/USDT        1m     11.530917      15   30   \n36             Strategy005  BTC/USDT        3m     11.349195      16   30   \n30             Strategy005  BTC/USDT       15m     10.985311      15   30   \n10         AverageStrategy  BTC/USDT       15m     10.722806      47   30   \n35             Strategy005  BTC/USDT        3m     10.349188      15   30   \n29             Strategy005  BTC/USDT       15m     10.230510      15   30   \n23          SwingHighToSky  BTC/USDT        3m     10.214038      21   30   \n\n     comment  \n83   btc-bnb  \n82   btc-bnb  \n77   btc-bnb  \n182  btc-bnb  \n187  btc-bnb  \n81   btc-bnb  \n181  btc-bnb  \n74   btc-bnb  \n73   btc-bnb  \n180  btc-bnb  \n37   btc-bnb  \n32   btc-bnb  \n31   btc-bnb  \n40   btc-bnb  \n36   btc-bnb  \n30   btc-bnb  \n10   btc-bnb  \n35   btc-bnb  \n29   btc-bnb  \n23   btc-bnb  "
     },
     "execution_count": 35,
     "metadata": {},
     "output_type": "execute_result"
    }
   ],
   "source": [
    "import pandas as pd\n",
    "import numpy as np\n",
    "\n",
    "\n",
    "from pymongo import MongoClient\n",
    "\n",
    "\n",
    "def _connect_mongo(host, port, username, password, db):\n",
    "    \"\"\" A util for making a connection to mongo \"\"\"\n",
    "\n",
    "    if username and password:\n",
    "        mongo_uri = 'mongodb://%s:%s@%s:%s/%s' % (username, password, host, port, db)\n",
    "        conn = MongoClient(mongo_uri)\n",
    "    else:\n",
    "        conn = MongoClient(host, port)\n",
    "\n",
    "\n",
    "    return conn[db]\n",
    "\n",
    "\n",
    "def read_mongo(db, collection, query={}, host='localhost', port=27017, username=None, password=None, no_id=True):\n",
    "    \"\"\" Read from Mongo and Store into DataFrame \"\"\"\n",
    "\n",
    "    # Connect to MongoDB\n",
    "    db = _connect_mongo(host=host, port=port, username=username, password=password, db=db)\n",
    "\n",
    "    # Make a query to the specific DB and Collection\n",
    "    cursor = db[collection].find(query)\n",
    "\n",
    "    # Expand the cursor and construct the DataFrame\n",
    "    df =  pd.DataFrame(list(cursor))\n",
    "\n",
    "    # Delete the _id\n",
    "    if no_id:\n",
    "        del df['_id']\n",
    "\n",
    "    return df\n",
    "\n",
    "\n",
    "query2 = { \"comment\" : \"bnb-ReinforcedSmoothScalp\"}\n",
    "ret = read_mongo('freq', 'hyperopt', query2, '10.0.0.10', 27017)\n",
    "\n",
    "\n",
    "#print(df.head())\n",
    "# Index(['Best', 'Epoch', 'Trades', 'Avg profit', 'Median profit',\n",
    "#$       'Total profit', 'Stake currency', 'Profit', 'Avg duration', 'Objective',\n",
    "#$       'Monthly Profit', 'pickle', 'base', 'pairs', 'config', 'timeframe',\n",
    "#$       'epoch', 'spaces', 'strategy', 'hyperopt', 'hyperopt_loss', 'timerange',\n",
    "#$       'host', 'days', 'comment'],\n",
    "#$      dtype='object')\n",
    "print(df.columns)\n",
    "\n",
    "#df.groupby('config')['Monthly Profit'].nlargest(3)\n",
    "\n",
    "#df.loc[df['days'] == 30]\n",
    "#df.loc[df['Trades'] > 20]\n",
    "\n",
    "#df.loc[df['days'] == 30]\n",
    "#df = df[ df['strategy'] == \"SwingHighToSky\" ]\n",
    "#df = df[ df['i'] == \"5m\" ]\n",
    "\n",
    "\n",
    "df = df[df.groupby(['pairs'])['Total profit'].rank(ascending=False) <= 10]\n",
    "\n",
    "\n",
    "df1 = df[['strategy', 'pairs', 'timeframe','Total profit','Trades','days','comment']]\n",
    "\n",
    "\n",
    "#df1 = df1.sort_values(by=['Monthly Profit','strategy'])\n",
    "df1 = df1.sort_values(by=['Total profit','strategy','timeframe'], ascending=False)\n",
    "df1\n",
    "\n",
    "#top_n = 2\n",
    "\n",
    "#df.groupby('config')['Monthly Profit'].nlargest(top_n).index.tolist() \n",
    "#pd.DataFrame({n: df.groupby('config')['Monthly Profit'].nlargest(top_n).index.tolist() \n",
    "#                  for n, col in enumerate(df.T)}).T\n",
    "\n",
    "\n",
    "\n"
   ]
  }
 ],
 "metadata": {
  "kernelspec": {
   "display_name": "Python 3.8.5 64-bit ('.env')",
   "name": "python385jvsc74a57bd0b2ec5ceb6c1257f9755155483e9e4a6fff30b27e7605761be09ccdd189f3caa0"
  },
  "language_info": {
   "codemirror_mode": {
    "name": "ipython",
    "version": 3
   },
   "file_extension": ".py",
   "mimetype": "text/x-python",
   "name": "python",
   "nbconvert_exporter": "python",
   "pygments_lexer": "ipython3",
   "version": "3.8.5"
  },
  "metadata": {
   "interpreter": {
    "hash": "b2ec5ceb6c1257f9755155483e9e4a6fff30b27e7605761be09ccdd189f3caa0"
   }
  },
  "orig_nbformat": 2
 },
 "nbformat": 4,
 "nbformat_minor": 2
}